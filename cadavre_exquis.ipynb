{
 "cells": [
  {
   "cell_type": "markdown",
   "id": "8d9f3d71-74f1-4042-bc5e-e4c00ced04e0",
   "metadata": {
    "jp-MarkdownHeadingCollapsed": true
   },
   "source": [
    "# Installation and general imports"
   ]
  },
  {
   "cell_type": "code",
   "execution_count": null,
   "id": "4a1203ac-d014-4ab7-92b7-cb2b1242bc4d",
   "metadata": {
    "scrolled": true
   },
   "outputs": [],
   "source": [
    "!pip install nltk\n",
    "!python -m nltk.downloader averaged_perceptron_tagger\n",
    "!pip install --upgrade nltk\n",
    "!pip install transformers\n",
    "!pip install torch torchvision\n",
    "!pip install --upgrade diffusers accelerate transformers\n",
    "!pip install controlnet_aux\n",
    "!pip install -q diffusers transformers accelerate invisible-watermark>=0.2.0"
   ]
  },
  {
   "cell_type": "code",
   "execution_count": null,
   "id": "a61f8143-ad68-4628-b245-fd36be565857",
   "metadata": {},
   "outputs": [],
   "source": [
    "# Import for text generation\n",
    "import nltk\n",
    "from nltk.corpus import wordnet as wn\n",
    "from nltk.corpus import gutenberg\n",
    "import random\n",
    "from transformers import pipeline\n",
    "from enum import Enum\n",
    "from transformers import BertForTokenClassification\n",
    "from concurrent.futures import ThreadPoolExecutor # to avoid sequential processing\n",
    "\n",
    "nltk.download('gutenberg')\n",
    "nltk.download('punkt')\n",
    "nltk.download('averaged_perceptron_tagger', download_dir='/home/jovyan/nltk_data')\n",
    "nltk.data.path.append(\"/home/jovyan/nltk_data\")"
   ]
  },
  {
   "cell_type": "code",
   "execution_count": null,
   "id": "1e2274e5-5027-4676-837b-9c194386f4c5",
   "metadata": {},
   "outputs": [],
   "source": [
    "# Import for image generation\n",
    "import requests\n",
    "from PIL import Image, ImageOps, ImageDraw\n",
    "from io import BytesIO\n",
    "from diffusers import StableDiffusionXLImg2ImgPipeline\n",
    "from diffusers import StableDiffusionXLPipeline\n",
    "from diffusers import AutoPipelineForImage2Image\n",
    "from diffusers import AutoPipelineForText2Image\n",
    "from diffusers import AutoPipelineForInpainting\n",
    "import torch\n",
    "from diffusers.utils import load_image, make_image_grid"
   ]
  },
  {
   "cell_type": "markdown",
   "id": "ef6e5ad7-59be-4337-ab60-59ec4dbb1447",
   "metadata": {},
   "source": [
    "# Prompt generation"
   ]
  },
  {
   "cell_type": "markdown",
   "id": "13975e83-aab3-483d-8e28-4f77ba440405",
   "metadata": {
    "jp-MarkdownHeadingCollapsed": true
   },
   "source": [
    "## Text load and analysis (adjective, noun, verb)"
   ]
  },
  {
   "cell_type": "code",
   "execution_count": null,
   "id": "0d024bcf-582f-4e69-87d3-e3a4ab32d51c",
   "metadata": {},
   "outputs": [],
   "source": [
    "book_complete = gutenberg.words('austen-emma.txt')\n",
    "austen_emma = ' '.join([word for word in book_complete if word.isalpha()])\n",
    "#pipe_bert = pipeline(\"token-classification\", model=\"bert-base-uncased\", device=0)\n",
    "pipe_bert = pipeline(\"token-classification\", model=\"vblagoje/bert-english-uncased-finetuned-pos\", device=0)"
   ]
  },
  {
   "cell_type": "code",
   "execution_count": null,
   "id": "e3f1f218-e5b8-4d7f-8809-f673b00d3fd6",
   "metadata": {},
   "outputs": [],
   "source": [
    "# Extract text from books present in the Gutemberg's library\n",
    "def prompt_gutemberg(text):\n",
    "    def chunk_text(text, max_length=512):\n",
    "        words = text.split()  # Split text into words\n",
    "        chunks = []\n",
    "        current_chunk = []\n",
    "\n",
    "        # Iterate over words and form chunks\n",
    "        for word in words:\n",
    "            if len(\" \".join(current_chunk + [word])) <= max_length:\n",
    "                current_chunk.append(word)\n",
    "            else:\n",
    "                chunks.append(\" \".join(current_chunk))\n",
    "                current_chunk = [word]\n",
    "                \n",
    "        # Add the last chunk if it exists\n",
    "        if current_chunk:\n",
    "            chunks.append(\" \".join(current_chunk))\n",
    "        return chunks\n",
    "\n",
    "    # Chunk the input text\n",
    "    chunks = chunk_text(text)\n",
    "    \n",
    "    # Initialize lists to store words by POS\n",
    "    nouns = []\n",
    "    verbs = []\n",
    "    adjectives = []\n",
    "    \n",
    "    # Use ThreadPoolExecutor to process chunks concurrently\n",
    "    with ThreadPoolExecutor() as executor:\n",
    "        word_classifications = list(executor.map(pipe_bert, chunks))  # Process all chunks concurrently\n",
    "    \n",
    "    for chunk, word_classification in zip(chunks, word_classifications):\n",
    "        for word in word_classification:\n",
    "            pos = word.get('entity')\n",
    "            word_text = word.get('word')\n",
    "            \n",
    "            if pos == 'NOUN':\n",
    "                nouns.append(word_text)\n",
    "            elif pos == 'VERB':\n",
    "                verbs.append(word_text)\n",
    "            elif pos == 'ADJ':\n",
    "                adjectives.append(word_text)\n",
    "                \n",
    "    # Filter out tokenized words starting with ##\n",
    "    nouns = [word for word in nouns if not word.startswith(\"##\")]\n",
    "    verbs = [word for word in verbs if not word.startswith(\"##\")]\n",
    "    adjectives = [word for word in adjectives if not word.startswith(\"##\")]\n",
    "\n",
    "    # Check if lists are non-empty before selecting random words\n",
    "    prompt_components = []\n",
    "    \n",
    "    if adjectives:\n",
    "        prompt_components.append(random.choice(adjectives))\n",
    "    if nouns:\n",
    "        prompt_components.append(random.choice(nouns))\n",
    "    if verbs:\n",
    "        prompt_components.append(random.choice(verbs))\n",
    "    if adjectives:\n",
    "        prompt_components.append(random.choice(adjectives))\n",
    "    if nouns:\n",
    "        prompt_components.append(random.choice(nouns))\n",
    "    \n",
    "    return prompt_components\n"
   ]
  },
  {
   "cell_type": "markdown",
   "id": "0351561f-e9bb-416b-bfbf-da6e21f62c7b",
   "metadata": {
    "jp-MarkdownHeadingCollapsed": true
   },
   "source": [
    "## Prompt generation"
   ]
  },
  {
   "cell_type": "code",
   "execution_count": null,
   "id": "e8c6fbb4-1b83-4a8e-a717-8c9835e71144",
   "metadata": {},
   "outputs": [],
   "source": [
    "class PromptType(Enum):\n",
    "    CONCRETE = 'concrete'\n",
    "    AUSTEN = 'austen'\n",
    "    WORDNET = 'wordnet'"
   ]
  },
  {
   "cell_type": "code",
   "execution_count": null,
   "id": "e9f8b04b-922c-4ac7-9336-cc79dc2e3c63",
   "metadata": {},
   "outputs": [],
   "source": [
    "# List generated by ChatGPT of concrete, representable nouns\n",
    "concrete_nouns = [\"car\", \"dwarf\", \"table\", \"tree\", \"house\", \"dog\", \"cat\", \"mountain\", \"river\", \"bird\",\n",
    "\"plane\", \"cloud\", \"pen\", \"book\", \"cup\", \"ball\", \"shoe\", \"phone\", \"clock\", \"camera\",\"lamp\", \"hat\", \"bicycle\", \"rocket\", \"laptop\", \"bottle\", \"fish\", \"star\", \"candle\", \"watch\",\n",
    "\"guitar\", \"keyboard\", \"umbrella\", \"bridge\", \"window\", \"door\", \"broom\", \"jacket\", \"television\",\n",
    "\"bookcase\", \"television\", \"computer\", \"flute\", \"telescope\", \"skateboard\", \"drum\", \"ice cream\",\n",
    "\"piano\", \"pizza\", \"painting\", \"carpet\", \"treehouse\", \"swimming pool\", \"skyscraper\", \"mountain\",\n",
    "\"statue\", \"wall\", \"stool\", \"frame\", \"chandelier\", \"refrigerator\", \"oven\", \"microwave\", \"furniture\",\n",
    "\"ladder\", \"stone\", \"trolley\", \"balloon\", \"pillow\", \"backpack\", \"scooter\", \"nail\", \"lightbulb\",\n",
    "\"zebra\", \"tiger\", \"elephant\", \"rabbit\", \"pencil\", \"cupboard\", \"brush\", \"chair\", \"scissors\", \"cone\",\n",
    "\"brush\", \"van\", \"helicopter\", \"carousel\", \"whistle\", \"marble\", \"plank\", \"skateboard\", \"rollerblades\",\n",
    "\"cheese\", \"rose\", \"lighthouse\", \"plane\", \"whale\", \"doll\", \"boat\", \"toaster\", \"telephone\", \"skateboard\",\n",
    "\"daisy\", \"tree stump\", \"sword\", \"axe\", \"glove\", \"mushroom\", \"pinecone\", \"turtle\", \"snake\", \"donkey\",\n",
    "\"bat\", \"truck\", \"lizard\", \"pot\", \"teapot\", \"goblet\", \"beer\", \"straw\", \"shovel\", \"scooter\", \"bicycle\",\n",
    "\"shark\", \"whale\", \"lemon\", \"coffee cup\", \"cactus\", \"mug\", \"helmet\", \"screwdriver\", \"camera\", \"snowflake\",\n",
    "\"computer\", \"windmill\", \"vase\", \"lantern\", \"bathtub\", \"piano\", \"mug\", \"wheelbarrow\", \"giraffe\", \"monkey\",\n",
    "\"leaf\", \"spoon\", \"carrot\", \"cake\", \"trophy\", \"book\", \"card\", \"glasses\", \"socks\", \"shoe\", \"box\",\n",
    "\"note\", \"purse\", \"blanket\", \"airplane\", \"beach\", \"forest\", \"bike\", \"plate\", \"sand\", \"barbecue\",\n",
    "\"bathtub\", \"shovel\", \"lawnmower\", \"trowel\", \"seashell\", \"volcano\", \"tulip\", \"coffin\", \"couch\", \"bread\",\n",
    "\"jar\", \"flower\", \"acorn\", \"crab\", \"surfboard\", \"whip\", \"lighthouse\", \"earphones\", \"towel\", \"knives\",\n",
    "\"comb\", \"gamepad\", \"scissors\", \"drawer\", \"cork\", \"socks\", \"sunflower\", \"sunhat\", \"glove\", \"bookstand\",\n",
    "\"glasses\", \"mountainbike\", \"glove\", \"frying pan\", \"plate\", \"marbles\", \"guitar\", \"wrench\", \"t-shirt\",\n",
    "\"cat\", \"dog\", \"hedgehog\", \"train\", \"bridge\", \"cannon\", \"kettle\", \"skateboard\", \"basketball\", \"sculpture\",\n",
    "\"nut\", \"spade\", \"teaspoon\", \"pen\", \"camera\", \"sleeping bag\", \"fence\", \"frying pan\", \"tennis ball\", \"cube\",\n",
    "\"alarm clock\", \"guitar\", \"wheel\", \"hammer\", \"skate\", \"drone\", \"broom\", \"zebra\", \"rubberband\", \"television\",\n",
    "\"giraffe\", \"bear\", \"raccoon\", \"purse\", \"thimble\", \"fork\", \"toothbrush\", \"paper\", \"spoon\", \"trophy\",\n",
    "\"tent\", \"candle\", \"guitar\", \"flower\", \"robot\", \"monitor\", \"speaker\", \"couch\", \"floor\", \"bus\", \"ball\",\n",
    "\"drumstick\", \"banana\", \"fork\", \"tissue\", \"coat\", \"hammock\", \"mug\", \"calculator\", \"hoop\", \"garden\", \"sailboat\",\n",
    "\"flute\", \"pin\", \"lightbulb\", \"notepad\", \"seashell\", \"keyboard\", \"plow\", \"airplane\", \"wheelchair\", \"iron\",\n",
    "\"baseball\", \"lock\", \"glove\", \"pencil\", \"lawnmower\", \"book\", \"ticket\", \"trolley\", \"hat\", \"leaf\", \"fish\",\n",
    "\"ring\", \"rock\", \"gloves\", \"umbrella\", \"drum\", \"wrench\", \"football\", \"knife\", \"cloud\", \"pineapple\", \"ladle\",\n",
    "\"pear\", \"truck\", \"shell\", \"van\", \"bicycle\", \"doorbell\", \"wood\", \"bat\", \"cleaver\", \"whale\", \"sandwich\",\n",
    "\"scarf\", \"mattress\", \"bucket\", \"dishes\", \"drawer\", \"clock\", \"mailbox\", \"planet\", \"pizza\", \"doghouse\",\n",
    "\"marshmallow\", \"jacket\", \"parachute\", \"seesaw\", \"balloon\", \"teddy bear\", \"sand\", \"glue\", \"mat\",\n",
    "\"capsule\", \"air\", \"rainbow\", \"toy\", \"chicken\", \"wrench\", \"tablecloth\", \"tractor\", \"flute\", \"fence\",\n",
    "\"saw\", \"snowman\", \"pocket\", \"stairs\", \"flag\", \"flowerpot\", \"ruler\", \"brick\", \"hula hoop\", \"castle\",\n",
    "\"hamster\", \"pear\", \"lighthouse\", \"skyscraper\", \"tree\", \"ring\", \"candy\", \"fridge\", \"lemon\", \"fishbowl\",\n",
    "\"cloud\", \"bed\", \"trolley\", \"backpack\", \"dish\", \"cup\", \"boot\", \"rope\", \"bat\", \"telescope\", \"barrel\",\n",
    "\"pillow\", \"cardboard\", \"snowball\", \"cherry\", \"rocket\", \"toothpaste\", \"puzzle\", \"bat\", \"flag\", \"stone\",\n",
    "\"toys\", \"giraffe\", \"skateboard\", \"cactus\", \"hammer\", \"cupboard\", \"mountain\", \"lamp\", \"fish\", \"keyboard\",\n",
    "\"snowflake\", \"brush\", \"mug\", \"roller\", \"ice\", \"pear\", \"snow\", \"fence\", \"moon\", \"marker\", \"glue\",\n",
    "\"basket\", \"frisbee\", \"paintbrush\", \"guitar\", \"glass\", \"french fries\", \"key\", \"seesaw\", \"bathtub\",\n",
    "\"dinosaur\", \"truck\", \"umbrella\", \"ferris wheel\", \"puppy\", \"sweater\", \"hat\", \"windmill\", \"needle\",\n",
    "\"train\", \"windmill\", \"brush\", \"apple\", \"egg\", \"star\", \"stapler\", \"smoke\", \"sand\", \"planet\", \"drum\",\n",
    "\"broom\", \"brick\", \"ladle\", \"bat\", \"wooden spoon\", \"scissors\", \"umbrella\", \"camera\", \"dish\", \"brush\", \"airship\", \"apple\", \"axe\", \"balloon\", \"bathtub\", \"bell\", \"bicycle\", \"birdcage\", \"bison\", \"blender\",\n",
    "\"bookend\", \"boot\", \"boxer\", \"bucket\", \"cactus\", \"calculator\", \"camera\", \"candleholder\", \"cannon\", \"caterpillar\",\n",
    "\"chalk\", \"chandelier\", \"cheese\", \"chicken\", \"chimney\", \"chisel\", \"christmas tree\", \"circular saw\", \"clamp\", \"clock\",\n",
    "\"clothesline\", \"coconut\", \"cone\", \"cookie\", \"corn\", \"couch\", \"cucumber\", \"curtain\", \"dagger\", \"desk\",\n",
    "\"dinosaur\", \"dishwasher\", \"door\", \"doorway\", \"doughnut\", \"drill\", \"drumstick\", \"earphones\", \"eggplant\", \"electric fan\",\n",
    "\"elephant\", \"envelope\", \"eraser\", \"eye\", \"feather\", \"fence\", \"ferris wheel\", \"fishing rod\", \"flame\", \"flashlight\",\n",
    "\"floor lamp\", \"flower\", \"flowerpot\", \"fork\", \"frying pan\", \"funnel\", \"giraffe\", \"glove\", \"glue gun\", \"golf ball\",\n",
    "\"grape\", \"guitar\", \"hair dryer\", \"hamburger\", \"hammer\", \"hammock\", \"hat\", \"headphones\", \"helicopter\", \"hose\",\n",
    "\"houseplant\", \"ice cream cone\", \"jackal\", \"jacket\", \"jigsaw\", \"joystick\", \"jump rope\", \"kettle\", \"keyboard\", \"knife\",\n",
    "\"koala\", \"ladle\", \"lawn mower\", \"leaf blower\", \"lemon\", \"lightbulb\", \"lighthouse\", \"lizard\", \"lock\", \"lollipop\",\n",
    "\"luggage\", \"magnifying glass\", \"map\", \"mattress\", \"measuring cup\", \"megaphone\", \"melon\", \"mirror\", \"mop\", \"mug\",\n",
    "\"nail\", \"necklace\", \"notebook\", \"nugget\", \"paddle\", \"paintbrush\", \"palette\", \"palm tree\", \"paperclip\", \"parachute\",\n",
    "\"pencil case\", \"pet house\", \"phone charger\", \"piano\", \"ping pong paddle\", \"pirate ship\", \"pistol\", \"plankton\", \"plate\",\n",
    "\"plow\", \"plug\", \"pocket watch\", \"police car\", \"pothole\", \"puzzle\", \"radio\", \"rake\", \"remote control\", \"ring\",\n",
    "\"rocket\", \"roller coaster\", \"ruler\", \"sandwich\", \"saw\", \"scissors\", \"seashell\", \"shovel\", \"skateboard\", \"skillet\",\n",
    "\"skis\", \"sled\", \"slingshot\", \"snowboard\", \"soap\", \"soccer ball\", \"spatula\", \"sponge\", \"spoon\", \"staircase\",\n",
    "\"stethoscope\", \"stopwatch\", \"sunglasses\", \"sushi\", \"swim goggles\", \"sword\", \"syringe\", \"telescope\", \"television\",\n",
    "\"tennis racket\", \"thermometer\", \"thimble\", \"tie\", \"toaster\", \"toothbrush\", \"toothpaste\", \"towel\", \"traffic light\",\n",
    "\"trampoline\", \"trolley\", \"trophy\", \"truck\", \"tulip\", \"vacuum cleaner\", \"van\", \"vase\", \"velvet rope\", \"video camera\",\n",
    "\"violin\", \"volcano\", \"wrench\", \"xylophone\", \"yarn\", \"yoga mat\", \"zebra\", \"zipper\", \"zucchini\", \"zombie\",\n",
    "\"accordion\", \"air conditioner\", \"alarm clock\", \"ambulance\", \"anvil\", \"aquarium\", \"art easel\", \"ashtray\", \"avocado\",\n",
    "\"axe handle\", \"backpack\", \"banana\", \"bark\", \"barn\", \"barometer\", \"barrel\", \"basket\", \"bat\", \"beacon\", \"beer bottle\",\n",
    "\"bicycle helmet\", \"binoculars\", \"bird nest\", \"blackboard\", \"blender\", \"block\", \"bowl\", \"box\", \"bracelet\", \"bricks\",\n",
    "\"broccoli\", \"broom\", \"bucket hat\", \"bunker\", \"bus\", \"butterfly\", \"cabinet\", \"calculator\", \"calendar\", \"camera bag\",\n",
    "\"candle\", \"cap\", \"car tire\", \"carpet\", \"carton\", \"case\", \"casket\", \"castle\", \"catapult\", \"cattle\", \"caveman\", \"cell phone\",\n",
    "\"cello\", \"chainsaw\", \"chalkboard\", \"cheese grater\", \"chessboard\", \"chicken coop\", \"child\", \"cigar\", \"circuit board\", \"clamp\",\n",
    "\"clay pot\", \"clip\", \"clothes\", \"coffee maker\", \"coffin\", \"coin\", \"colored pencils\", \"compass\", \"cone hat\", \"cookie jar\",\n",
    "\"cork\", \"couch cushion\", \"cupboard\", \"curtains\", \"dart\", \"desk lamp\", \"dinosaur skeleton\", \"dirt bike\", \"dog bowl\",\n",
    "\"dog collar\", \"door knob\", \"doorknob\", \"doorframe\", \"dough\", \"drain\", \"drawer\", \"drum set\", \"dumbbell\", \"duster\",\n",
    "\"dustpan\", \"earrings\", \"elbow\", \"envelope opener\", \"eraser\", \"exercise ball\", \"fence post\", \"ferry\", \"file folder\",\n",
    "\"fire hydrant\", \"fishing tackle\", \"flamingo\", \"flute\", \"fog\", \"frying pan\", \"garage\", \"gasoline\", \"golf cart\",\n",
    "\"grill\", \"guitar pick\", \"hairbrush\", \"hats\", \"headset\", \"holster\", \"hook\", \"hopscotch\", \"hula skirt\", \"ice skates\",\n",
    "\"ice tray\", \"incense\", \"island\", \"jar lid\", \"jewels\", \"jockey cap\", \"jungle gym\", \"keyboard keys\", \"kiwi\", \"ladle\",\n",
    "\"leaf blower\", \"lemonade\", \"light switch\", \"lollipop\", \"luggage rack\", \"magic wand\", \"magnet\", \"mailbox\", \"mannequin\",\n",
    "\"maple tree\", \"market\", \"mash potatoes\", \"mason jar\", \"measuring tape\", \"melons\", \"menorah\", \"mirror frame\", \"mobile\",\n",
    "\"monopoly board\", \"moped\", \"mousepad\", \"muffin\", \"nachos\", \"nail polish\", \"neck pillow\", \"nightstand\", \"nutcracker\",\n",
    "\"office chair\", \"paint roller\", \"paper bag\", \"paper towel\", \"paperweight\", \"parrot\", \"peach\", \"pedal\", \"penholder\",\n",
    "\"phone case\", \"piano keys\", \"picnic basket\", \"pie\", \"picture frame\", \"pin\", \"potted plant\", \"printer\", \"purse\",\n",
    "\"rake\", \"refrigerator\", \"remote\", \"rubber duck\", \"sand bucket\", \"sandpaper\", \"scarf\", \"screwdriver\", \"shampoo\",\n",
    "\"shopping cart\", \"shovel\", \"sidewalk\", \"skate\", \"scooter\", \"scrub brush\", \"seashell\", \"selfie stick\", \"shoe rack\",\n",
    "\"shopping bag\", \"skull\", \"snow globe\", \"snowman\", \"sock\", \"spade\", \"sponge\", \"spoon\", \"sports car\", \"spring\",\n",
    "\"staircase\", \"steak\", \"stereo\", \"stethoscope\", \"strawberry\", \"street sign\", \"stripes\", \"submarine\", \"sunglasses\",\n",
    "\"surfer\", \"swan\", \"swimming goggles\", \"sword\", \"t-shirt\", \"tablecloth\", \"teddy bear\", \"telephone\", \"telescope\",\n",
    "\"tent\", \"thermometer\", \"ticket\", \"tiger\", \"toaster\", \"toothpaste\", \"toothpick\", \"traffic cone\", \"train tracks\",\n",
    "\"tree stump\", \"tricycle\", \"trophy\", \"trolley\", \"tulip\", \"umbrella\", \"vacuum\", \"van\", \"video game controller\", \"violin\",\n",
    "\"vulture\", \"washer\", \"water bottle\", \"webcam\", \"whale\", \"wheel\", \"window\", \"window blind\", \"wooden crate\", \"woodpecker\",\n",
    "\"yarn\", \"yoga ball\", \"zeppelin\", \"zipper\", \"zucchini\", \"accordion\", \"air balloon\", \"airplane wing\", \"airship\", \"alarm\", \"aloe vera\", \"ambulance\", \"amplifier\", \"anatomy model\",\n",
    "\"anchor\", \"angel\", \"ant\", \"anvil\", \"apron\", \"arcade\", \"armor\", \"art canvas\", \"artichoke\", \"ashtray\", \n",
    "\"asteroid\", \"atlas\", \"automatic door\", \"autumn leaf\", \"awning\", \"baby bottle\", \"baby stroller\", \"backhoe\", \"baker's rack\", \n",
    "\"balance scale\", \"banana peel\", \"bandage\", \"banknote\", \"barbecue grill\", \"barbell\", \"barn door\", \"barrow\", \"baseball glove\", \n",
    "\"baseball bat\", \"basketball hoop\", \"bathtub faucet\", \"beach ball\", \"beach chair\", \"beaker\", \"beanie\", \"beer mug\", \"bicycle tire\", \n",
    "\"billiard ball\", \"binder\", \"bin\", \"birdhouse\", \"biscuit\", \"bison skull\", \"blackboard eraser\", \"blanket\", \"blender bottle\", \n",
    "\"blindfold\", \"block of ice\", \"blood pressure cuff\", \"blowtorch\", \"blueberry\", \"boiling pot\", \"bottle opener\", \"bowtie\", \n",
    "\"bracelet box\", \"brandy glass\", \"bread loaf\", \"broomstick\", \"bruschetta\", \"bucket list\", \"buffalo\", \"bunk bed\", \"bus stop\",\n",
    "\"cabana\", \"cactus plant\", \"calculator keyboard\", \"calendar page\", \"candle jar\", \"candy cane\", \"carabiner\", \"card catalog\", \n",
    "\"carpet roll\", \"carousel horse\", \"carving knife\", \"cassette tape\", \"casserole dish\", \"cat tree\", \"cattle prod\", \"cellar\", \n",
    "\"cereal box\", \"chalice\", \"chalkboard eraser\", \"chandelier light\", \"cheese wedge\", \"cheeseburger\", \"chess piece\", \"chicken leg\", \n",
    "\"chicken nugget\", \"chimney sweep\", \"chipmunk\", \"chisel set\", \"christmas stocking\", \"cigar box\", \"cinnamon stick\", \"claw hammer\", \n",
    "\"clay pot\", \"clenched fist\", \"clothes hanger\", \"clothes iron\", \"clothesline peg\", \"cloud formation\", \"clown wig\", \"coaster set\", \n",
    "\"coffin lid\", \"coin purse\", \"coffee filter\", \"coffee table\", \"coin collection\", \"compass rose\", \"conga drum\", \"cooking pot\", \n",
    "\"corkscrew\", \"cotton ball\", \"countertop\", \"cowboy hat\", \"crayon box\", \"cricket bat\", \"cromlech\", \"crown\", \"cup holder\", \"cup of soup\", \n",
    "\"cushion\", \"cutting board\", \"dartboard\", \"deck chair\", \"decorative plate\", \"desk organizer\", \"detergent bottle\", \"diamond ring\", \n",
    "\"dinosaur tail\", \"dining table\", \"dipper\", \"dish rack\", \"doughnut box\", \"drainpipe\", \"dressing gown\", \"drinking glass\", \n",
    "\"drumsticks\", \"drunken sailor\", \"duck\", \"dustpan\", \"electric drill\", \"elephant trunk\", \"envelope seal\", \"eraser top\", \"exam paper\", \n",
    "\"exercise mat\", \"ferris wheel seat\", \"field hockey stick\", \"filing cabinet\", \"fingerless glove\", \"fishing lure\", \"fishing pole\", \n",
    "\"flask\", \"flashlight bulb\", \"flip flops\", \"flower basket\", \"flower bed\", \"flute case\", \"football helmet\", \"football shoes\", \n",
    "\"footlocker\", \"french press\", \"frying pan handle\", \"fudge\", \"funnel spout\", \"garden gnome\", \"gas mask\", \"gavel\", \"generator\", \n",
    "\"george washington statue\", \"giraffe print\", \"glass bottle\", \"glove compartment\", \"goggles\", \"gold medal\", \"golf tee\", \"grape vine\", \n",
    "\"grill brush\", \"guitar neck\", \"guitar strap\", \"hammered copper\", \"hammock frame\", \"hand fan\", \"hand mixer\", \"hand towel\", \n",
    "\"harp\", \"hat rack\", \"hazmat suit\", \"headband\", \"heart shaped balloon\", \"helmet liner\", \"herb garden\", \"hiking boots\", \n",
    "\"hip flask\", \"hoop skirt\", \"hummingbird feeder\", \"hurricane lamp\", \"ice cream bar\", \"ice pack\", \"ice tray\", \"incense holder\", \n",
    "\"information board\", \"ink bottle\", \"iron gate\", \"iron skillet\", \"jack-o'-lantern\", \"jacket zipper\", \"jewelry box\", \"jigsaw puzzle\", \n",
    "\"kettle lid\", \"keyhole\", \"keypad\", \"keyboard keys\", \"kiwi fruit\", \"ladle spoon\", \"lantern handle\", \"lawn chair\", \"leather belt\", \n",
    "\"lemon zest\", \"library card\", \"lifeboat\", \"light bulb socket\", \"lighter\", \"lightning bolt\", \"lily pad\", \"locket\", \"log cabin\", \n",
    "\"luggage tag\", \"lumberjack shirt\", \"lunch box\", \"magician's hat\", \"magnifying lens\", \"mail envelope\", \"mail slot\", \"map pin\", \n",
    "\"mattress pad\", \"mechanical pencil\", \"medal holder\", \"megaphone horn\", \"measuring cup set\", \"measuring jug\", \"milk jug\", \n",
    "\"mirror frame\", \"miter box\", \"model airplane\", \"monitor stand\", \"mop bucket\", \"mosquito net\", \"motion sensor\", \"muffin tray\", \n",
    "\"neck pillow\", \"netting\", \"night lamp\", \"oil can\", \"oil paint\", \"olives\", \"onion ring\", \"open sign\", \"orange peel\", \"ornament\", \n",
    "\"outdoor bench\", \"pack of cards\", \"painting easel\", \"paper fan\", \"paper lantern\", \"parasol\", \"pen holder\", \"pepper shaker\", \n",
    "\"picnic table\", \"pillowcase\", \"pine cone\", \"pinwheel\", \"plate holder\", \"playground slide\", \"plunger\", \"pocket mirror\", \n",
    "\"popcorn bucket\", \"postcard\", \"power cord\", \"puzzle piece\", \"quilt\", \"radiator\", \"raincoat\", \"rake handle\", \"rainy day boots\", \n",
    "\"recipe book\", \"reclining chair\", \"remote control\", \"ring binder\", \"roller skate\", \"rolling pin\", \"rooftop\", \"rug\", \"salad bowl\", \n",
    "\"salt shaker\", \"sandpaper block\", \"sandwich board\", \"scarf hanger\", \"scissors handle\", \"scratching post\", \"shack\", \"shaker\", \n",
    "\"shampoo bottle\", \"shaving kit\", \"shoelace\", \"shopping bag\", \"shopping trolley\", \"shovel head\", \"side table\", \"sieve\", \n",
    "\"skateboard deck\", \"skewers\", \"sled runners\", \"slippers\", \"slingshot band\", \"snowboard goggles\", \"snowflake ornament\", \n",
    "\"soap dispenser\", \"soda can\", \"spade handle\", \"spatula handle\", \"speech bubble\", \"speedometer\", \"spoon holder\", \"sports car\",\n",
    "\"spring blossom\", \"stainless steel mug\", \"stapler\", \"straw\", \"sugar bowl\", \"sunglass case\", \"sushi roll\", \"swimming float\", \n",
    "\"sword handle\", \"tablecloth corner\", \"tape measure\", \"teacup\", \"teapot lid\", \"telephone receiver\", \"telescope lens\", \"thermos\", \n",
    "\"ticket stub\", \"toaster slot\", \"toothbrush holder\", \"toothpick container\", \"traffic cone\", \"trailer hitch\", \"trampoline net\", \n",
    "\"trash can lid\", \"treasure chest\", \"trolley wheel\", \"trophy stand\", \"truck bed\", \"turkey baster\", \"typewriter keys\", \n",
    "\"vacuum cleaner hose\", \"vase flower\", \"vinyl record\", \"vintage camera\", \"volleyball net\", \"watering can\", \"webcam lens\", \n",
    "\"whistle\", \"windsurfing board\", \"window box\", \"window shutter\", \"wooden crate\", \"yarn spool\", \"yellow marker\", \"zip bag\", \"zodiac sign\", \"abacus\", \"accordion\", \"air balloon\", \"air conditioner\", \"alarm clock\", \"alligator\", \"ambulance\", \"anatomy model\", \"anchor\", \n",
    "\"angel\", \"antique clock\", \"apron\", \"art easel\", \"atlas\", \"autumn leaf\", \"aviator sunglasses\", \"backpack\", \"bacon strip\", \n",
    "\"baking tray\", \"ball of yarn\", \"banana split\", \"bandana\", \"basket of apples\", \"bat\", \"bathing suit\", \"bathtub\", \"beach ball\", \n",
    "\"beacon\", \"beach umbrella\", \"beanie\", \"beer can\", \"bench\", \"bicycle wheel\", \"bird bath\", \"birdhouse\", \"biscuit tin\", \"blender\", \n",
    "\"blinds\", \"block of wood\", \"block tower\", \"blueberry pie\", \"bottle cap\", \"bottle of ketchup\", \"bottle of wine\", \"bowl of soup\", \n",
    "\"brass lamp\", \"bread basket\", \"broom\", \"broccoli bunch\", \"buckets\", \"bunk bed\", \"cactus plant\", \"calculator\", \"calendar\", \"camera\", \n",
    "\"can opener\", \"candy bar\", \"candle stick\", \"candle holder\", \"car battery\", \"car wheel\", \"carabiner\", \"card deck\", \"casserole dish\", \n",
    "\"cat tree\", \"cattle\", \"chandelier\", \"chess board\", \"chicken wing\", \"chip bag\", \"chisel\", \"christmas wreath\", \"cigarette\", \n",
    "\"clamp\", \"claw\", \"clothes iron\", \"clothes line\", \"clothing hanger\", \"clutch\", \"cobweb\", \"coconut\", \"coffee grinder\", \"coffee mug\", \n",
    "\"coffee pot\", \"coin stack\", \"coffee table\", \"comb\", \"computer mouse\", \"computer screen\", \"concrete block\", \"cone\", \"cookie cutter\", \n",
    "\"cookie jar\", \"cork\", \"corkscrew\", \"cotton candy\", \"crayon box\", \"crossword puzzle\", \"cucumber\", \"cufflinks\", \"cupcake\", \n",
    "\"curtain rod\", \"cushion\", \"dartboard\", \"darts\", \"deck chair\", \"decorative pillow\", \"dog bowl\", \"dog collar\", \"dog house\", \n",
    "\"dollhouse\", \"doughnut\", \"drainpipe\", \"drawer handle\", \"drumstick\", \"dumbbell\", \"dustpan\", \"earphones\", \"earrings\", \n",
    "\"easel\", \"egg carton\", \"electric fan\", \"electric guitar\", \"elephant\", \"envelope\", \"eraser\", \"exercise mat\", \"extension cord\", \n",
    "\"feather duster\", \"fence post\", \"file folder\", \"fishing rod\", \"flask\", \"flashlight\", \"flip-flops\", \"flower bouquet\", \n",
    "\"flower pot\", \"flying saucer\", \"frying pan\", \"garden rake\", \"garden shovel\", \"gasoline can\", \"globe\", \"glue gun\", \"goggles\", \n",
    "\"golf ball\", \"golf club\", \"golf tee\", \"grape vine\", \"gravy boat\", \"grill\", \"guitar pick\", \"hammock\", \"hand fan\", \"hat\", \n",
    "\"headphones\", \"helicopter\", \"hiking boots\", \"hip flask\", \"hole puncher\", \"hula hoop\", \"ice cream cone\", \"ice tray\", \n",
    "\"incense holder\", \"inhaler\", \"ink pad\", \"iron\", \"jack-o-lantern\", \"jacket\", \"jelly jar\", \"jigsaw puzzle\", \"jockey cap\", \n",
    "\"jumper cable\", \"keyboard\", \"kiwi\", \"ladle\", \"landline phone\", \"laptop\", \"lawnmower\", \"leaf blower\", \"letter opener\", \n",
    "\"lemon\", \"lemon squeezer\", \"light bulb\", \"lighter\", \"light switch\", \"lighthouse\", \"lipstick\", \"lollipop\", \"luggage\", \n",
    "\"magnifying glass\", \"mailbox\", \"mantle clock\", \"measuring cup\", \"measuring spoon\", \"melon\", \"microphone\", \"mirror\", \n",
    "\"mop\", \"mouse pad\", \"muffin tray\", \"nail polish\", \"nightstand\", \"notebook\", \"oar\", \"oil can\", \"olive jar\", \"paint bucket\", \n",
    "\"paintbrush\", \"palette\", \"paper clips\", \"paper towel\", \"paperweight\", \"parasol\", \"passport\", \"pencil\", \"pencil case\", \n",
    "\"pendant\", \"perfume bottle\", \"phone case\", \"photo frame\", \"piano\", \"ping pong paddle\", \"plate\", \"platter\", \"plunger\", \n",
    "\"pocket knife\", \"pocket watch\", \"pot\", \"power drill\", \"printer\", \"propeller\", \"purse\", \"radio\", \"raincoat\", \"recliner\", \n",
    "\"remote control\", \"reusable water bottle\", \"riding boots\", \"ring\", \"roller skates\", \"rolling pin\", \"rose\", \"ruler\", \n",
    "\"salt shaker\", \"sandwich\", \"scarf\", \"scissors\", \"sewing kit\", \"shampoo bottle\", \"shaving razor\", \"shopping bag\", \n",
    "\"shopping cart\", \"shovel\", \"skateboard\", \"scooter\", \"scroll\", \"screwdriver\", \"seashell\", \"selfie stick\", \"shovel\", \n",
    "\"skateboard deck\", \"sleeping bag\", \"snow shovel\", \"snowboard\", \"sock\", \"socks\", \"spade\", \"spatula\", \"speakers\", \n",
    "\"spice rack\", \"spoon\", \"sports car\", \"spring\", \"stadium\", \"staircase\", \"stapler\", \"stethoscope\", \"stepladder\", \n",
    "\"straw\", \"suitcase\", \"sunglasses\", \"surfboard\", \"sushi roll\", \"swimming pool\", \"swimming float\", \"table\", \"tablecloth\", \n",
    "\"tape measure\", \"tea kettle\", \"teacup\", \"teddy bear\", \"telephone\", \"television\", \"tennis racket\", \"thermometer\", \n",
    "\"thumbtacks\", \"ticket\", \"toaster\", \"toothbrush\", \"toothpaste\", \"toothpick\", \"traffic cone\", \"trolley\", \"trumpet\", \n",
    "\"umbrella\", \"vacuum cleaner\", \"van\", \"vase\", \"vegetable peeler\", \"violin\", \"volleyball\", \"wrench\", \"wristwatch\", \n",
    "\"xylophone\", \"yarn\", \"yellow umbrella\", \"yoga mat\", \"yo-yo\", \"zebra\", \"zipper\", \"ziplock bag\", \"zucchini\", \n",
    "\"air compressor\", \"apple pie\", \"atlas\", \"baking sheet\", \"bandages\", \"basketball\", \"beach chair\", \"bird feeder\", \n",
    "\"birthday hat\", \"bluebird\", \"bookmark\", \"bracelet\", \"bricks\", \"broomstick\", \"candle\", \"car charger\", \"casserole\", \n",
    "\"ceramic mug\", \"chess set\", \"chimney\", \"circle\", \"clothes basket\", \"clown nose\", \"clothes rack\", \"coffee machine\", \n",
    "\"coffin\", \"corkscrew\", \"cowboy boots\", \"crepe\", \"cup of coffee\", \"cup of tea\", \"curtain\", \"dandelion\", \"dog collar\", \n",
    "\"donut\", \"door lock\", \"door frame\", \"drawing compass\", \"earmuffs\", \"egg beater\", \"electric toothbrush\", \"envelope\", \n",
    "\"exercise bike\", \"fire extinguisher\", \"flamingo\", \"flute\", \"funnel\", \"game controller\", \"gasoline tank\", \"golf club\", \n",
    "\"guitar pick\", \"hairbrush\", \"hammock\", \"handbag\", \"hatchet\", \"hippopotamus\", \"hot dog\", \"hot water bottle\", \"iPad\", \n",
    "\"kettle\", \"kitchen sink\", \"lawn mower\", \"lemonade pitcher\", \"light fixture\", \"magnet\", \"mask\", \"microwave\", \n",
    "\"muffin tin\", \"music box\", \"painter's palette\", \"paper bag\", \"paper towel\", \"parachute\", \"pen holder\", \"phone stand\", \n",
    "\"photo album\", \"pine tree\", \"plate rack\", \"pot of tea\", \"printer ink\", \"puzzle\", \"quilt\", \"rake\", \"rocket\", \n",
    "\"roller coaster\", \"rubber stamp\", \"scissors handle\", \"skillet\", \"snow globe\", \"soap dish\", \"soccer ball\", \"sock\", \n",
    "\"spade\", \"spoon\", \"sports car\", \"spring\", \"staircase\", \"stapler\", \"stethoscope\", \"stepladder\", \"straw\", \"suitcase\", \n",
    "\"sunglasses\", \"surfboard\", \"sushi roll\", \"swimming pool\", \"swimming float\", \"table\", \"tablecloth\", \"tape measure\", \n",
    "\"tea kettle\", \"teacup\", \"teddy bear\", \"telephone\", \"television\", \"tennis racket\", \"thermometer\", \"thumbtacks\", \n",
    "\"ticket\", \"toaster\", \"toothbrush\", \"toothpaste\", \"toothpick\", \"traffic cone\", \"trolley\", \"trumpet\", \"umbrella\", \n",
    "\"vacuum cleaner\", \"van\", \"vase\", \"vegetable peeler\", \"violin\", \"volleyball\", \"wrench\", \"wristwatch\", \"xylophone\", \n",
    "\"yarn\", \"yellow umbrella\", \"yoga mat\", \"yo-yo\", \"zebra\", \"zipper\", \"ziplock bag\", \"zucchini\"]\n",
    "\n",
    "wordnet_nouns = list(wn.all_synsets('n'))\n",
    "austen_emma = ' '.join(word for word in gutenberg.words('austen-emma.txt') if word.isalpha())"
   ]
  },
  {
   "cell_type": "code",
   "execution_count": null,
   "id": "c8034517-e3bd-408f-9dc3-e34ee0aabf9b",
   "metadata": {},
   "outputs": [],
   "source": [
    "# PROMPT GENERATION\n",
    "def generate_prompt(prompt_type:PromptType, length):\n",
    "    \"\"\" Returns a list with the words for the prompt.\"\"\"\n",
    "    prompt = []\n",
    "\n",
    "    if prompt_type == PromptType.CONCRETE:\n",
    "        prompt = [random.choice(concrete_nouns) for x in range(length)]\n",
    "\n",
    "    elif prompt_type == PromptType.WORDNET:\n",
    "        prompt = [random.choice(wordnet_nouns).lemmas()[0].name() for x in range(length)]\n",
    "\n",
    "    elif prompt_type == PromptType.AUSTEN:\n",
    "        # Uses above function to generate adj, noun, verb, adj, noun prompt from Book \"Emma\".\n",
    "        prompt = [word for x in range(length) for word in prompt_gutemberg(austen_emma)]\n",
    "\n",
    "    return prompt"
   ]
  },
  {
   "cell_type": "markdown",
   "id": "47c0a2c4-acf4-4e93-a9f3-9aef6baa918d",
   "metadata": {
    "jp-MarkdownHeadingCollapsed": true
   },
   "source": [
    "## Prompt testing"
   ]
  },
  {
   "cell_type": "code",
   "execution_count": null,
   "id": "1d140991-eaee-46a4-909c-656828c2bdd3",
   "metadata": {},
   "outputs": [],
   "source": [
    "# UNCOMMENT TO GENERATE PROMPTS\n",
    "random.seed()\n",
    "\"\"\"prompt0 = generate_prompt(PromptType.CONCRETE, 2)\n",
    "prompt1 = generate_prompt(PromptType.WORDNET, 2)\n",
    "prompt2 = generate_prompt(PromptType.AUSTEN, 2)\n",
    "print(f'Concrete prompt: {prompt0}')\n",
    "print(f'Wordnet prompt: {prompt1}')\n",
    "print(f'Austen prompt: {prompt2}')\"\"\""
   ]
  },
  {
   "cell_type": "code",
   "execution_count": null,
   "id": "6d82aa46-9595-4b6e-aa72-ddece1fea45e",
   "metadata": {},
   "outputs": [],
   "source": []
  },
  {
   "cell_type": "markdown",
   "id": "d27e0914-e6be-4618-8111-690ed10e4bbe",
   "metadata": {},
   "source": [
    "# Image generation"
   ]
  },
  {
   "cell_type": "markdown",
   "id": "fd0074b3-3759-460c-89bc-4a8ea02adcfb",
   "metadata": {},
   "source": [
    "Load model"
   ]
  },
  {
   "cell_type": "code",
   "execution_count": null,
   "id": "1ee1f7ce-0e0b-4e7b-9f97-055b34cfe000",
   "metadata": {},
   "outputs": [],
   "source": [
    "txt_2_img_pipe = AutoPipelineForText2Image.from_pretrained(\n",
    "    \"stabilityai/stable-diffusion-xl-base-1.0\", torch_dtype=torch.float16, variant=\"fp16\", use_safetensors=True\n",
    ").to(\"cuda\")"
   ]
  },
  {
   "cell_type": "code",
   "execution_count": null,
   "id": "fedb684b-834e-436d-b07d-b80a14f2758c",
   "metadata": {},
   "outputs": [],
   "source": [
    "from diffusers import AutoPipelineForImage2Image\n",
    "from diffusers.utils import load_image, make_image_grid\n",
    "\n",
    "# from_pipe to avoid consuming additional memory when loading a checkpoint\n",
    "img2img_pipe = AutoPipelineForImage2Image.from_pipe(txt_2_img_pipe).to(\"cuda\")"
   ]
  },
  {
   "cell_type": "code",
   "execution_count": null,
   "id": "bb3ae2e1-9a5c-4779-ae8a-cea16003b139",
   "metadata": {},
   "outputs": [],
   "source": [
    "# Prompt preparation\n",
    "positive_prompt = 'clean lines, well-balanced composition, graphic'\n",
    "negative_prompt = ('blurry, text, letters, letter, typography, writing, low resolution, watermark, '\n",
    "                                'patterns, distorted face, bad anatomy, uncanny, extra fingers, '\n",
    "                                'missing fingers, missing faces, pixelated, deformed, no text')"
   ]
  },
  {
   "cell_type": "markdown",
   "id": "56c88100-ae70-4c04-acc2-e5b6d92f68b1",
   "metadata": {},
   "source": [
    "Text-to-image model. This model is used as a first step for all the exquisite corpse generations."
   ]
  },
  {
   "cell_type": "code",
   "execution_count": null,
   "id": "a0d0c388-dac2-423a-b2c2-23bdef4df106",
   "metadata": {},
   "outputs": [],
   "source": [
    "def first_img(word):\n",
    "    \"\"\"Generates an image based on a word.\n",
    "    The image is saved with the word in its name.\n",
    "    Returns the filename.\"\"\"\n",
    "    image_1 = txt_2_img_pipe(word + '++' + positive_prompt, \n",
    "                             negative_prompt=negative_prompt, \n",
    "                             guidance_scale=13,\n",
    "                             num_inference_steps=80, \n",
    "                             height=1024, \n",
    "                             width=1024).images[0]\n",
    "    image_name = f'image_{word}.jpg'\n",
    "    image_1.save(image_name)\n",
    "    \n",
    "    # Show the image\n",
    "    print(word)\n",
    "    print('First image generated.')\n",
    "    return image_name"
   ]
  },
  {
   "cell_type": "code",
   "execution_count": null,
   "id": "42950954-3e9f-47f7-9c17-a708d1b259ab",
   "metadata": {},
   "outputs": [],
   "source": [
    "# UNCOMMENT TO TEST first_img() function\n",
    "\"\"\"random.seed(42)\n",
    "prompt0 = generate_prompt(PromptType.CONCRETE, 2)\n",
    "first_img(prompt0[0])\"\"\""
   ]
  },
  {
   "cell_type": "code",
   "execution_count": null,
   "id": "7443269c-f1d7-43be-8724-49e679d5fbf4",
   "metadata": {},
   "outputs": [],
   "source": [
    "from PIL import Image, ImageDraw, ImageFont\n",
    "# This function is used in the gif pipeline\n",
    "\n",
    "def add_text_to_image(image_path, text):\n",
    "    \"\"\"Add black text on top left of the image. Saves and overwrites the input image.\n",
    "    Input: image_path, text.\n",
    "    Returns: none.\"\"\"\n",
    "    \n",
    "    # Open the image\n",
    "    img = Image.open(image_path)\n",
    "    \n",
    "    # Create a drawing context\n",
    "    draw = ImageDraw.Draw(img)\n",
    "    \n",
    "    try:\n",
    "        font = ImageFont.truetype(\"font/Roboto-Medium.ttf\", size=25) # Font in repository folder\n",
    "    except IOError:\n",
    "        font = ImageFont.load_default()\n",
    "        \n",
    "    text_position = (15, 15)  # (0,0) is the top left corner\n",
    "    text_color = (0, 0, 0)  # Black text\n",
    "\n",
    "    # Add text to the image\n",
    "    draw.text(text_position, text, font=font, fill=text_color)\n",
    "\n",
    "    # Save the modified image\n",
    "    img.save(image_path)\n",
    "\n",
    "    return \"Text added\""
   ]
  },
  {
   "cell_type": "code",
   "execution_count": null,
   "id": "fd770a66-8f5a-4c89-92b0-52d9604d43be",
   "metadata": {},
   "outputs": [],
   "source": [
    "# Test - UNCOMMENT AND REPLACE WITH YOUR IMAGE PATH\n",
    "\"\"\"your_image = 'image_block tower.jpg'\n",
    "add_text_to_image(your_image, 'Write your text here')\"\"\""
   ]
  },
  {
   "cell_type": "markdown",
   "id": "dcc34c2e-a750-43f5-889f-29483e8ccfbf",
   "metadata": {},
   "source": [
    "## Gif functions"
   ]
  },
  {
   "cell_type": "markdown",
   "id": "2a38f57e-a5ae-4303-973e-8bba41781347",
   "metadata": {},
   "source": [
    "Gif creator\n",
    "Source: https://medium.com/@theriyasharma24/creating-gifs-from-images-using-python-88946aa47881"
   ]
  },
  {
   "cell_type": "code",
   "execution_count": null,
   "id": "e7686d88-e53d-49e6-b10e-db83dc052b7f",
   "metadata": {},
   "outputs": [],
   "source": [
    "def gif_img_generator(img_path, words):\n",
    "    \"\"\"Input: previous image and word. Iterates on all prompt's images.\n",
    "    Saves the images.\n",
    "    Return: filenames of the generated images.\"\"\"\n",
    "    \n",
    "    # Set the initial image as the starting point\n",
    "    current_image = Image.open(img_path).convert(\"RGB\")\n",
    "\n",
    "    filenames = [img_path]\n",
    "    outputs = [img_path]\n",
    "    # Iterate over each word in the prompt\n",
    "    for i in range(1, len(words)):\n",
    "    \n",
    "    # Uncomment for sliding window:\n",
    "    #for i in range(1, (len(words)-3)):\n",
    "        \n",
    "        output = img2img_pipe(\n",
    "            # Uncomment for sliding window:\n",
    "            #prompt= (words[i]+ words[i+1] + words[i+2])+ '++' + positive_prompt,\n",
    "            prompt= words[i]+ '++' + positive_prompt,\n",
    "            negative_prompt=negative_prompt,\n",
    "            image=current_image, \n",
    "            strength=0.8, # How much the original image is preserved\n",
    "            guidance_scale=9 # How closely the image should match the prompt\n",
    "        ).images[0]\n",
    "    \n",
    "        # Save the current output image\n",
    "        output_filename = f\"gif_{i+1}_{words[i]}.jpg\"\n",
    "        # Sliding window for Austen types\n",
    "        #output_filename = f\"gif_{i+1}_{words[i]}-{words[i+1]}-{words[i+2]}.jpg\"\n",
    "        filenames.append(output_filename)\n",
    "        print('filename appended')\n",
    "        output.save(output_filename)\n",
    "        outputs.append(output)\n",
    "        # Use the current output image as the input for the next iteration\n",
    "        current_image = output\n",
    "        print(f\"Saved image: {output_filename}\")\n",
    "\n",
    "    print(\"Gif image generation done.\")\n",
    "    return filenames\n",
    "\n",
    "\n",
    "def create_gif(image_paths, output_gif_path, duration):\n",
    "    \"\"\"Generates a gif with the given images.\"\"\"\n",
    "\n",
    "    images = [Image.open(image_path) for image_path in image_paths]\n",
    "    \n",
    "    # Save as GIF\n",
    "    images[0].save(\n",
    "        output_gif_path,\n",
    "        save_all=True,\n",
    "        append_images=images[1:],\n",
    "        duration=duration,\n",
    "        loop=0 # 0 means infinite loop\n",
    "    )\n",
    "    return \".gif file generated\""
   ]
  },
  {
   "cell_type": "code",
   "execution_count": null,
   "id": "de0916a5-4154-451c-8f25-6ceff32a3b03",
   "metadata": {},
   "outputs": [],
   "source": [
    "# UNCOMMENT TO TEST THE GIF FUNCTIONS\n",
    "#filenames_gif = gif_img_generator(\"image_block tower.jpg\", prompt0[1:])\n",
    "#gif = create_gif(filenames_gif, 'gif_test0.gif', 100*len(filenames_gif))"
   ]
  },
  {
   "cell_type": "code",
   "execution_count": null,
   "id": "97e37744-837b-48b2-a077-6e8135306d8b",
   "metadata": {},
   "outputs": [],
   "source": [
    "def gif_pipeline(prompt, with_text=False):\n",
    "    \"\"\" Generates an image per word of the prompt and assembles images into a gif. \"\"\"\n",
    "    first_img_name = first_img(prompt[0])\n",
    "    filenames_gif = gif_img_generator(first_img_name, prompt[1:]) \n",
    "    if with_text:\n",
    "        add_text_to_image(first_img_name, prompt[0])\n",
    "        i = 1\n",
    "        for filename in filenames_gif:\n",
    "            add_text_to_image(filename, prompt[i])\n",
    "            i+=1\n",
    "    gif_name = ''.join([word.capitalize() for word in prompt])\n",
    "    print(filenames_gif)        \n",
    "    gif = create_gif(filenames_gif,f'{gif_name}.gif', 100*len(filenames_gif))\n",
    "    return 'Gif pipeline end.'\n"
   ]
  },
  {
   "cell_type": "markdown",
   "id": "6e4fdefc-7c39-45ba-b3eb-3cb66f4cd6ff",
   "metadata": {},
   "source": [
    "## Gif generation example"
   ]
  },
  {
   "cell_type": "code",
   "execution_count": null,
   "id": "52366805-82b2-4312-9620-deb0e284db28",
   "metadata": {},
   "outputs": [],
   "source": [
    "#random.seed(13)\n",
    "concrete_prompts = []\n",
    "for x in range(3):\n",
    "    prompt = generate_prompt(PromptType.CONCRETE, 20)\n",
    "    concrete_prompts.append(prompt)"
   ]
  },
  {
   "cell_type": "code",
   "execution_count": null,
   "id": "4aff69fc-85e8-409d-adfa-61a340360de5",
   "metadata": {},
   "outputs": [],
   "source": [
    "print(concrete_prompts[0])"
   ]
  },
  {
   "cell_type": "code",
   "execution_count": null,
   "id": "79154c32-9505-47dc-afcd-525c044cf58b",
   "metadata": {},
   "outputs": [],
   "source": [
    "for prompt in concrete_prompts:\n",
    "    gif_pipeline(prompt, 0)"
   ]
  },
  {
   "cell_type": "code",
   "execution_count": null,
   "id": "71d86823-e9b7-4a16-a846-3f2be50e9aa9",
   "metadata": {},
   "outputs": [],
   "source": [
    "# To try sliding window\n",
    "#austen_prompts = generate_prompt(PromptType.AUSTEN, 3) # Sliding window = 3 \n",
    "#print(f'Check if sliding window pipeline will work: {len(austen_prompts) / 5 == 0}' )\n",
    "#gif_pipeline(austen_prompts)"
   ]
  },
  {
   "cell_type": "markdown",
   "id": "2bb523a0-1346-46fa-94e1-844086f18535",
   "metadata": {},
   "source": [
    "## Expanded images"
   ]
  },
  {
   "cell_type": "code",
   "execution_count": null,
   "id": "643774c8-3500-4dfc-b22f-69bd3f78f1b7",
   "metadata": {},
   "outputs": [],
   "source": [
    "def expand_and_merge(input_img, words):\n",
    "    \"\"\"Crops the input image, extends it into 1024x1024, uses it as input for the next image generation. \n",
    "    Merges all images into one scrollable image.\"\"\"\n",
    "    input_img = Image.open(input_img).convert(\"RGB\")\n",
    "    expanded_images = [input_img]\n",
    "    expanded_size = (input_img.width, input_img.height)\n",
    "    #top_part = input_img.crop((0, 0, input_img.width, input_img.height // 4))\n",
    "    #top_part = top_part.resize(expanded_size)\n",
    "    bottom_part = input_img.crop((0, input_img.height - input_img.height // 4, input_img.width, input_img.height))\n",
    "    bottom_part = bottom_part.resize(expanded_size)\n",
    "    \n",
    "    for word in words: #generate an image per word\n",
    "        print(word)\n",
    "        expanded_image = img2img_pipe(\n",
    "            prompt=(word)+'++' + positive_prompt,\n",
    "            negative_prompt=negative_prompt,\n",
    "            image=bottom_part,\n",
    "            strength=0.75,\n",
    "            guidance_scale=9).images[0] # 15 7.5\n",
    "        \n",
    "        expanded_images.append(expanded_image)\n",
    "        bottom_part = expanded_image.crop((0, input_img.height - input_img.height // 4, input_img.width, input_img.height))\n",
    "        bottom_part = bottom_part.resize((1024, 1024))\n",
    "\n",
    "    total_height = input_img.height * (len(expanded_images))\n",
    "    width = input_img.width  # All images have the same width\n",
    "\n",
    "    # Create a new canvas to hold all images stacked vertically\n",
    "    merged_image = Image.new(\"RGB\", (width, total_height))\n",
    "\n",
    "    # Paste each image into the canvas at the correct position\n",
    "    current_height = 0\n",
    "    for image in expanded_images:\n",
    "        merged_image.paste(image, (0, current_height))\n",
    "        current_height += image.height\n",
    "    len_prompt = [len(word) for word in prompt]\n",
    "    total_len_prompt = sum(len_prompt)\n",
    "    if total_len_prompt < 60: # Prevent crashes due to long filenames\n",
    "        merged_png = merged_image.save(f\"merged_{prompt}.png\")\n",
    "    else:\n",
    "        merged_png = merged_image.save(f\"merged_{prompt[:3]}_&more.png\")\n",
    "    print('Expand and merge done.')\n",
    "    return merged_image"
   ]
  },
  {
   "cell_type": "code",
   "execution_count": null,
   "id": "2be31af2-fd03-4f30-9efa-2397bc511cb6",
   "metadata": {},
   "outputs": [],
   "source": [
    "def extend_pipeline(prompt):\n",
    "    \"\"\"Generates one long image 1024x(len(prompt))\"\"\"\n",
    "    first_img_name = first_img(prompt[0])\n",
    "    merged_img = expand_and_merge(first_img_name, prompt[1:])\n",
    "    print('Extend pipeline done.')\n",
    "    return merged_img\n"
   ]
  },
  {
   "cell_type": "markdown",
   "id": "8f3eee11-aa5d-401b-b7ea-26c765106fe8",
   "metadata": {},
   "source": [
    "## Expand and merge test"
   ]
  },
  {
   "cell_type": "code",
   "execution_count": null,
   "id": "a26e7fc7-e926-41c7-bbcb-e9ede6a5a432",
   "metadata": {},
   "outputs": [],
   "source": [
    "random.seed(42)\n",
    "prompts_concrete = []\n",
    "for i in range(3):\n",
    "    prompt_concrete = generate_prompt(PromptType.CONCRETE, 10)\n",
    "    prompts_concrete.append(prompt_concrete)"
   ]
  },
  {
   "cell_type": "code",
   "execution_count": null,
   "id": "80ffc8f9-7c85-49d3-9083-79b9c01be556",
   "metadata": {
    "scrolled": true
   },
   "outputs": [],
   "source": [
    "for prompt in concrete_prompts:\n",
    "    extend_pipeline(prompt)"
   ]
  },
  {
   "cell_type": "markdown",
   "id": "73569fdb-fe46-43ce-9574-e3cc5036687d",
   "metadata": {},
   "source": [
    "## Inpainting"
   ]
  },
  {
   "cell_type": "code",
   "execution_count": null,
   "id": "d12ce2b5-b606-4d17-bc74-ce9cbb5725c5",
   "metadata": {},
   "outputs": [],
   "source": [
    "inpainting_pipe = AutoPipelineForInpainting.from_pipe(txt_2_img_pipe).to(\"cuda\")"
   ]
  },
  {
   "cell_type": "code",
   "execution_count": null,
   "id": "61c45b01-17d4-4d04-a7d2-fa0441038051",
   "metadata": {},
   "outputs": [],
   "source": [
    "def inpainting(source_img_path, word, mini_size:int, mask_size:int):\n",
    "    \"\"\"Pastes a small copy of the source image in its center and extends it. The centered image remains unchanged.\n",
    "    Returns the generated image's name.\"\"\"\n",
    "    canvas_width, canvas_height = 1024, 1024\n",
    "    source_image = Image.open(source_img_path).convert(\"RGB\")\n",
    "    source_image_mini = source_image.resize((mini_size, mini_size))\n",
    "    x_offset = (canvas_width - source_image_mini.width) // 2\n",
    "    y_offset = (canvas_height - source_image_mini.height) // 2\n",
    "    source_image.paste(source_image_mini, (x_offset, y_offset))\n",
    "\n",
    "    \n",
    "    mask = Image.new(\"L\", (canvas_width, canvas_height), 255) # L for luminance --> grayscale mode                 \n",
    "    mask.paste(0, (x_offset, y_offset, x_offset + mask_size, y_offset + mask_size))\n",
    "    print('mask generated')\n",
    "    \n",
    "    img_inpainting = inpainting_pipe(prompt=word+ \"++\" + positive_prompt,\n",
    "                                     negative_prompt=negative_prompt,\n",
    "                                     image=source_image, \n",
    "                                     mask_image=mask,\n",
    "                                     guidance_scale=6\n",
    "                                    ).images[0]\n",
    "\n",
    "    filename = f'inpainting_{source_img_path[11:-4]}_{word}.png'\n",
    "    img_inpainting.save(filename)\n",
    "\n",
    "    print(f'Inpainting done: {filename} saved ')\n",
    "    return filename"
   ]
  },
  {
   "cell_type": "code",
   "execution_count": null,
   "id": "589e8657-9d1a-40ad-ba5b-84c2bb62982d",
   "metadata": {},
   "outputs": [],
   "source": [
    "def inpainting_pipeline(prompt):\n",
    "    \"\"\"Input: full prompt (type: list)\n",
    "       Ouput: filenames\n",
    "       This function generates an exquisite corpse with previous images in the middle of the final output. \n",
    "       All images are saved separately.\"\"\" \n",
    "    first_img_name = first_img(prompt[0])\n",
    "    zoom_factor = 1024//len(prompt)\n",
    "    mini_size = zoom_factor \n",
    "    mask_size = zoom_factor - 50\n",
    "    filenames = []\n",
    "    for word in prompt[1:]:\n",
    "        inpainting_img = inpainting(first_img_name, word, mini_size, mask_size)\n",
    "        filenames.append(inpainting_img)\n",
    "        first_img_name = inpainting_img\n",
    "        print(f'inpainting \\'{word}\\' done')\n",
    "        mini_size += zoom_factor\n",
    "        mask_size += zoom_factor\n",
    "        \n",
    "    print('Inpainting pipeline done')\n",
    "    return filenames\n",
    "    "
   ]
  },
  {
   "cell_type": "code",
   "execution_count": null,
   "id": "b585afeb-8392-4c95-9570-2a580354cc26",
   "metadata": {},
   "outputs": [],
   "source": [
    "# UNCOMMENT TO TEST\n",
    "\"\"\"random.seed(2)\n",
    "prompts_concrete = []\n",
    "for i in range(3):\n",
    "    prompt_concrete = generate_prompt(PromptType.CONCRETE, 6)\n",
    "    prompts_concrete.append(prompt_concrete)\n",
    "\n",
    "for prompt in prompts_concrete:\n",
    "    inpainting_pipeline(prompt)\"\"\""
   ]
  },
  {
   "cell_type": "markdown",
   "id": "bdb60589-3c9e-4f07-bd4a-989b5ac07308",
   "metadata": {
    "jp-MarkdownHeadingCollapsed": true
   },
   "source": [
    "## Video"
   ]
  },
  {
   "cell_type": "markdown",
   "id": "9cf47d23-897c-4bac-9f52-62a4533bbba0",
   "metadata": {},
   "source": [
    "Code adapted from https://github.com/bermarte/Zoom-in-video"
   ]
  },
  {
   "cell_type": "code",
   "execution_count": null,
   "id": "8f26ceb1-504e-494c-a667-a55c49047b1f",
   "metadata": {},
   "outputs": [],
   "source": [
    "!pip install moviepy==1.0.3 numpy>=1.18.1 imageio>=2.5.0 decorator>=4.3.0 tqdm>=4.0.0 Pillow>=7.0.0 scipy>=1.3.0 pydub>=0.23.0 audiofile>=0.0.0 opencv-python>=4.5"
   ]
  },
  {
   "cell_type": "code",
   "execution_count": null,
   "id": "2026ab2b-4ad8-4530-b18e-6c3333f50e2b",
   "metadata": {},
   "outputs": [],
   "source": [
    "import os\n",
    "from moviepy.editor import ImageClip, concatenate_videoclips\n",
    "from moviepy.editor import *"
   ]
  },
  {
   "cell_type": "code",
   "execution_count": null,
   "id": "9e83ec93-1009-4262-8b83-8247df4fc4b0",
   "metadata": {},
   "outputs": [],
   "source": [
    "import os\n",
    "from moviepy.editor import ImageClip, concatenate_videoclips\n",
    "\n",
    "def create_zoom_video(images, output_file, zoom_factor=0.05, duration_per_image=1):\n",
    "    '''It takes a list of input image files, zooms them in progressively to create a clip'''\n",
    "    clips = []\n",
    "    print('clip list done')\n",
    "    # Calculatfinal_clip = final_clip.set_fps(25)e the zoom values\n",
    "    for _i, image in enumerate(images):\n",
    "        print('for loop entered')\n",
    "        # Load the image as a VideoClip\n",
    "        clip = ImageClip(image)\n",
    "        print('image loaded')\n",
    "        # Set the duration for the video clip\n",
    "        clip = clip.set_duration(duration_per_image)\n",
    "        print('duration set')\n",
    "        # Apply the zoom-in effect using the 'resize' method\n",
    "        # Here, `zoom_factor` defines how much the image will zoom in progressively\n",
    "        clip = clip.resize(lambda t: 1 + zoom_factor * t)  # t increases over time\n",
    "        clips.append(clip)\n",
    "        print('clip appended')\n",
    "\n",
    "    # Concatenate all clips into one video\n",
    "    final_clip = concatenate_videoclips(clips, method=\"compose\")\n",
    "    print('final clip concatenated')\n",
    "    final_clip.fps=24\n",
    "    \n",
    "    # Write the video file\n",
    "    final_clip.write_videofile(output_file) #, fps=24, codec=\"libx264\")\n",
    "    return final_clip\n",
    "\n",
    "\n",
    "def generate_zoom_video(image_folder, output_file, zoom_factor=0.05, duration_per_image=1):\n",
    "    '''Function to generate the zoom video from images in a folder'''\n",
    "    # Get all image files from the provided folder\n",
    "    image_files = [filename for filename in os.listdir(image_folder) if filename.lower().endswith(('.png', '.jpg', '.jpeg'))]\n",
    "\n",
    "    if not image_files:\n",
    "        print(\"No image files found in the provided directory.\")\n",
    "        return\n",
    "\n",
    "    input_files = [os.path.join(image_folder, filename) for filename in image_files]\n",
    "\n",
    "    create_zoom_video(input_files, output_file, zoom_factor, duration_per_image)\n",
    "    print(f\"Video saved to {output_file}\")\n"
   ]
  },
  {
   "cell_type": "code",
   "execution_count": null,
   "id": "865f8734-6b9d-4d34-8a03-6f39613645df",
   "metadata": {},
   "outputs": [],
   "source": [
    "# UNCOMMENT TO TEST\n",
    "\"\"\"random.seed(4)\n",
    "prompt_concrete = generate_prompt(PromptType.CONCRETE, 5)\n",
    "inpainting_filenames = inpainting_pipeline(prompt_concrete)\n",
    "create_zoom_video(inpainting_filenames[::-1], 'inpainting_testing.mp4', zoom_factor=1.2, duration_per_image=0.8)\"\"\""
   ]
  },
  {
   "cell_type": "markdown",
   "id": "a6c966b0-2ad5-4d5d-ad1a-eb69dbe06849",
   "metadata": {},
   "source": [
    "# Reset memory"
   ]
  },
  {
   "cell_type": "code",
   "execution_count": null,
   "id": "7cba4914-89f6-4e7b-88a6-56ae9eaba1a9",
   "metadata": {},
   "outputs": [],
   "source": [
    "#torch.cuda.empty_cache()\n",
    "%reset -f"
   ]
  },
  {
   "cell_type": "code",
   "execution_count": null,
   "id": "5ab87cde-ea29-45f0-a034-3ae3124b4622",
   "metadata": {},
   "outputs": [],
   "source": []
  },
  {
   "cell_type": "code",
   "execution_count": null,
   "id": "7cb1d419-342c-40ca-8412-d371fc5754f9",
   "metadata": {},
   "outputs": [],
   "source": []
  }
 ],
 "metadata": {
  "kernelspec": {
   "display_name": "Python 3 (ipykernel)",
   "language": "python",
   "name": "python3"
  },
  "language_info": {
   "codemirror_mode": {
    "name": "ipython",
    "version": 3
   },
   "file_extension": ".py",
   "mimetype": "text/x-python",
   "name": "python",
   "nbconvert_exporter": "python",
   "pygments_lexer": "ipython3",
   "version": "3.11.9"
  }
 },
 "nbformat": 4,
 "nbformat_minor": 5
}
